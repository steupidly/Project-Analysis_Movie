{
 "cells": [
  {
   "cell_type": "code",
   "execution_count": null,
   "id": "8dc8f5bf",
   "metadata": {},
   "outputs": [],
   "source": [
    "'''Import basic modules, visualization , and customize display  '''\n",
    "import pandas as pd\n",
    "import numpy as np\n",
    "import matplotlib.pyplot as plt\n",
    "from IPython.display import HTML\n",
    "pd.options.display.float_format ='{:.2f}'.format\n",
    "\n"
   ]
  },
  {
   "cell_type": "code",
   "execution_count": null,
   "id": "67e3fbb4",
   "metadata": {},
   "outputs": [],
   "source": [
    "'''Load Data '''\n",
    "df = pd.read_csv('movies_complete.csv', parse_dates=['release_date'])\n",
    "df.head()"
   ]
  },
  {
   "cell_type": "code",
   "execution_count": null,
   "id": "04e74a24",
   "metadata": {},
   "outputs": [],
   "source": [
    "'''information about dataset '''\n",
    "df.info()"
   ]
  },
  {
   "cell_type": "code",
   "execution_count": null,
   "id": "4b5b041e",
   "metadata": {},
   "outputs": [],
   "source": [
    "'''Descriptive Statistics'''\n",
    "df.describe()"
   ]
  },
  {
   "cell_type": "code",
   "execution_count": null,
   "id": "20c2b905",
   "metadata": {},
   "outputs": [],
   "source": [
    "''' Visualization dataset'''\n",
    "df.hist(figsize=(20,15),bins= 100)\n",
    "plt.show()"
   ]
  },
  {
   "cell_type": "code",
   "execution_count": null,
   "id": "167a4c70",
   "metadata": {},
   "outputs": [],
   "source": [
    "df.budget_musd.value_counts(dropna=False).head(20)"
   ]
  },
  {
   "cell_type": "code",
   "execution_count": null,
   "id": "f4aed30e",
   "metadata": {},
   "outputs": [],
   "source": [
    "df.revenue_musd.value_counts(dropna=False).head(20)"
   ]
  },
  {
   "cell_type": "code",
   "execution_count": null,
   "id": "b271b7a7",
   "metadata": {},
   "outputs": [],
   "source": [
    "df.vote_average.value_counts(dropna=False).head(20)"
   ]
  },
  {
   "cell_type": "code",
   "execution_count": null,
   "id": "8195015c",
   "metadata": {},
   "outputs": [],
   "source": [
    "df.vote_count.value_counts()"
   ]
  },
  {
   "cell_type": "code",
   "execution_count": null,
   "id": "64cca70f",
   "metadata": {},
   "outputs": [],
   "source": [
    "df.describe(include='object')"
   ]
  },
  {
   "cell_type": "code",
   "execution_count": null,
   "id": "2e5dbcb5",
   "metadata": {},
   "outputs": [],
   "source": [
    "df[df.title== 'Cinderella']"
   ]
  },
  {
   "cell_type": "code",
   "execution_count": null,
   "id": "111f7f20",
   "metadata": {},
   "outputs": [],
   "source": [
    "df.info()"
   ]
  },
  {
   "cell_type": "code",
   "execution_count": null,
   "id": "797a9d51",
   "metadata": {},
   "outputs": [],
   "source": []
  }
 ],
 "metadata": {
  "kernelspec": {
   "display_name": "Python 3.10.4 64-bit",
   "language": "python",
   "name": "python3"
  },
  "language_info": {
   "codemirror_mode": {
    "name": "ipython",
    "version": 3
   },
   "file_extension": ".py",
   "mimetype": "text/x-python",
   "name": "python",
   "nbconvert_exporter": "python",
   "pygments_lexer": "ipython3",
   "version": "3.10.4"
  },
  "vscode": {
   "interpreter": {
    "hash": "ede5060663335fa224b5b5884e190395279403262ef320fc0cb5b53e9e50f162"
   }
  }
 },
 "nbformat": 4,
 "nbformat_minor": 5
}
