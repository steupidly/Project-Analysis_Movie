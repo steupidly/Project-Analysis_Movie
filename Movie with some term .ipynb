{
 "cells": [
  {
   "cell_type": "code",
   "execution_count": 1,
   "metadata": {},
   "outputs": [],
   "source": [
    "import pandas as pd\n",
    "import numpy as np\n",
    "import matplotlib.pyplot as plt\n",
    "from IPython.display import HTML\n",
    "pd.options.display.float_format = '{:.2f}'.format"
   ]
  },
  {
   "cell_type": "code",
   "execution_count": 2,
   "metadata": {},
   "outputs": [],
   "source": [
    "df = pd.read_csv('movies_complete.csv')\n"
   ]
  },
  {
   "cell_type": "code",
   "execution_count": 3,
   "metadata": {},
   "outputs": [],
   "source": [
    "# genre yang mengandung kata Action an science fiction\n",
    "genre_2 = df.genres.str.contains('Action') & df.genres.str.contains('Science Fiction')"
   ]
  },
  {
   "cell_type": "code",
   "execution_count": 4,
   "metadata": {},
   "outputs": [
    {
     "data": {
      "text/plain": [
       "'Tom Hanks|Tim Allen|Don Rickles|Jim Varney|Wallace Shawn|John Ratzenberger|Annie Potts|John Morris|Erik von Detten|Laurie Metcalf|R. Lee Ermey|Sarah Freeman|Penn Jillette'"
      ]
     },
     "execution_count": 4,
     "metadata": {},
     "output_type": "execute_result"
    }
   ],
   "source": [
    "df.cast[0]"
   ]
  },
  {
   "cell_type": "code",
   "execution_count": 5,
   "metadata": {},
   "outputs": [],
   "source": [
    "#cast yang menganung Bruce Willis\n",
    "bruce_cast = df.cast.str.contains('Bruce Willis')"
   ]
  },
  {
   "cell_type": "code",
   "execution_count": 6,
   "metadata": {},
   "outputs": [],
   "source": [
    "bruce = df.loc[genre_2 & bruce_cast , ['title', \"poster_path\",'vote_average']].sort_values(by=\"vote_average\", ascending=False)"
   ]
  },
  {
   "cell_type": "code",
   "execution_count": 7,
   "metadata": {},
   "outputs": [
    {
     "data": {
      "text/html": [
       "<table border=\"1\" class=\"dataframe\">\n",
       "  <thead>\n",
       "    <tr style=\"text-align: right;\">\n",
       "      <th></th>\n",
       "      <th>poster_path</th>\n",
       "      <th>vote_average</th>\n",
       "    </tr>\n",
       "    <tr>\n",
       "      <th>title</th>\n",
       "      <th></th>\n",
       "      <th></th>\n",
       "    </tr>\n",
       "  </thead>\n",
       "  <tbody>\n",
       "    <tr>\n",
       "      <th>The Fifth Element</th>\n",
       "      <td><img src='http://image.tmdb.org/t/p/w185//fPtlCO1yQtnoLHOwKtWz7db6RGU.jpg' style='height:100px;'></td>\n",
       "      <td>7.30</td>\n",
       "    </tr>\n",
       "    <tr>\n",
       "      <th>Looper</th>\n",
       "      <td><img src='http://image.tmdb.org/t/p/w185//sNjL6SqErDBE8OUZlrDLkexfsCj.jpg' style='height:100px;'></td>\n",
       "      <td>6.60</td>\n",
       "    </tr>\n",
       "    <tr>\n",
       "      <th>Armageddon</th>\n",
       "      <td><img src='http://image.tmdb.org/t/p/w185//fMtOCd0EAdAzKtGLQiHjSUvbdNc.jpg' style='height:100px;'></td>\n",
       "      <td>6.50</td>\n",
       "    </tr>\n",
       "    <tr>\n",
       "      <th>Surrogates</th>\n",
       "      <td><img src='http://image.tmdb.org/t/p/w185//v3Z0Hbl0oe57njrrIPh0fJPFoo.jpg' style='height:100px;'></td>\n",
       "      <td>5.90</td>\n",
       "    </tr>\n",
       "    <tr>\n",
       "      <th>G.I. Joe: Retaliation</th>\n",
       "      <td><img src='http://image.tmdb.org/t/p/w185//3rWIZMzTKcCtV0eHJ70Z4Ru659f.jpg' style='height:100px;'></td>\n",
       "      <td>5.40</td>\n",
       "    </tr>\n",
       "    <tr>\n",
       "      <th>Vice</th>\n",
       "      <td><img src='http://image.tmdb.org/t/p/w185//nPqNoQ55RIrmmo9mpqg1jE3ENza.jpg' style='height:100px;'></td>\n",
       "      <td>4.10</td>\n",
       "    </tr>\n",
       "  </tbody>\n",
       "</table>"
      ],
      "text/plain": [
       "<IPython.core.display.HTML object>"
      ]
     },
     "execution_count": 7,
     "metadata": {},
     "output_type": "execute_result"
    }
   ],
   "source": [
    "HTML(bruce.set_index('title').to_html(escape=False))"
   ]
  },
  {
   "cell_type": "code",
   "execution_count": 8,
   "metadata": {},
   "outputs": [],
   "source": [
    "uma_cast = df.cast.str.contains(\"Uma Thurman\")"
   ]
  },
  {
   "cell_type": "code",
   "execution_count": 9,
   "metadata": {},
   "outputs": [],
   "source": [
    "quentin_direc = df.director == \"Quentin Tarantino\""
   ]
  },
  {
   "cell_type": "code",
   "execution_count": 10,
   "metadata": {},
   "outputs": [],
   "source": [
    "uma_quentin= df.loc[uma_cast&quentin_direc , ['title','poster_path','runtime']].sort_values(by=\"runtime\", ascending=True)"
   ]
  },
  {
   "cell_type": "code",
   "execution_count": 11,
   "metadata": {},
   "outputs": [
    {
     "data": {
      "text/html": [
       "<table border=\"1\" class=\"dataframe\">\n",
       "  <thead>\n",
       "    <tr style=\"text-align: right;\">\n",
       "      <th></th>\n",
       "      <th>poster_path</th>\n",
       "      <th>runtime</th>\n",
       "    </tr>\n",
       "    <tr>\n",
       "      <th>title</th>\n",
       "      <th></th>\n",
       "      <th></th>\n",
       "    </tr>\n",
       "  </thead>\n",
       "  <tbody>\n",
       "    <tr>\n",
       "      <th>Kill Bill: Vol. 1</th>\n",
       "      <td><img src='http://image.tmdb.org/t/p/w185//v7TaX8kXMXs5yFFGR41guUDNcnB.jpg' style='height:100px;'></td>\n",
       "      <td>111.00</td>\n",
       "    </tr>\n",
       "    <tr>\n",
       "      <th>Kill Bill: Vol. 2</th>\n",
       "      <td><img src='http://image.tmdb.org/t/p/w185//2yhg0mZQMhDyvUQ4rG1IZ4oIA8L.jpg' style='height:100px;'></td>\n",
       "      <td>136.00</td>\n",
       "    </tr>\n",
       "    <tr>\n",
       "      <th>Pulp Fiction</th>\n",
       "      <td><img src='http://image.tmdb.org/t/p/w185//d5iIlFn5s0ImszYzBPb8JPIfbXD.jpg' style='height:100px;'></td>\n",
       "      <td>154.00</td>\n",
       "    </tr>\n",
       "  </tbody>\n",
       "</table>"
      ],
      "text/plain": [
       "<IPython.core.display.HTML object>"
      ]
     },
     "execution_count": 11,
     "metadata": {},
     "output_type": "execute_result"
    }
   ],
   "source": [
    "HTML(uma_quentin.set_index('title').to_html(escape=False))"
   ]
  },
  {
   "cell_type": "code",
   "execution_count": 12,
   "metadata": {},
   "outputs": [],
   "source": [
    "pixar = df.production_companies.str.contains(\"Pixar\").fillna(False)\n"
   ]
  },
  {
   "cell_type": "code",
   "execution_count": 13,
   "metadata": {},
   "outputs": [],
   "source": [
    "date = df.release_date.between('2010-01-01','2015-12-30')"
   ]
  },
  {
   "cell_type": "code",
   "execution_count": 14,
   "metadata": {},
   "outputs": [],
   "source": [
    "pixar_2015_2010 = df.loc[pixar&date, [\"title\",'poster_path', 'revenue_musd','release_date']].sort_values(by='revenue_musd', ascending=False).set_index(\"title\").head()"
   ]
  },
  {
   "cell_type": "code",
   "execution_count": 15,
   "metadata": {},
   "outputs": [
    {
     "data": {
      "text/html": [
       "<table border=\"1\" class=\"dataframe\">\n",
       "  <thead>\n",
       "    <tr style=\"text-align: right;\">\n",
       "      <th></th>\n",
       "      <th>poster_path</th>\n",
       "      <th>revenue_musd</th>\n",
       "      <th>release_date</th>\n",
       "    </tr>\n",
       "    <tr>\n",
       "      <th>title</th>\n",
       "      <th></th>\n",
       "      <th></th>\n",
       "      <th></th>\n",
       "    </tr>\n",
       "  </thead>\n",
       "  <tbody>\n",
       "    <tr>\n",
       "      <th>Toy Story 3</th>\n",
       "      <td><img src='http://image.tmdb.org/t/p/w185//amY0NH1ksd9xJ9boXAMmods6U0D.jpg' style='height:100px;'></td>\n",
       "      <td>1066.97</td>\n",
       "      <td>2010-06-16</td>\n",
       "    </tr>\n",
       "    <tr>\n",
       "      <th>Inside Out</th>\n",
       "      <td><img src='http://image.tmdb.org/t/p/w185//lRHE0vzf3oYJrhbsHXjIkF4Tl5A.jpg' style='height:100px;'></td>\n",
       "      <td>857.61</td>\n",
       "      <td>2015-06-09</td>\n",
       "    </tr>\n",
       "    <tr>\n",
       "      <th>Monsters University</th>\n",
       "      <td><img src='http://image.tmdb.org/t/p/w185//tyHHjZEzJutWggujN1KP0a1jfLX.jpg' style='height:100px;'></td>\n",
       "      <td>743.56</td>\n",
       "      <td>2013-06-20</td>\n",
       "    </tr>\n",
       "    <tr>\n",
       "      <th>Cars 2</th>\n",
       "      <td><img src='http://image.tmdb.org/t/p/w185//okIz1HyxeVOMzYwwHUjH2pHi74I.jpg' style='height:100px;'></td>\n",
       "      <td>559.85</td>\n",
       "      <td>2011-06-11</td>\n",
       "    </tr>\n",
       "    <tr>\n",
       "      <th>Brave</th>\n",
       "      <td><img src='http://image.tmdb.org/t/p/w185//8l0pzWBrStFtbZiqeu0cGhxGKkT.jpg' style='height:100px;'></td>\n",
       "      <td>538.98</td>\n",
       "      <td>2012-06-21</td>\n",
       "    </tr>\n",
       "  </tbody>\n",
       "</table>"
      ],
      "text/plain": [
       "<IPython.core.display.HTML object>"
      ]
     },
     "execution_count": 15,
     "metadata": {},
     "output_type": "execute_result"
    }
   ],
   "source": [
    "HTML(pixar_2015_2010.to_html(escape=False))"
   ]
  },
  {
   "cell_type": "code",
   "execution_count": 16,
   "metadata": {},
   "outputs": [],
   "source": [
    "gen = df.genres.str.contains('Thriller') & df.genres.str.contains('Action') "
   ]
  },
  {
   "cell_type": "code",
   "execution_count": 17,
   "metadata": {},
   "outputs": [],
   "source": [
    "ori_lang_eng = df.original_language =='en'\n"
   ]
  },
  {
   "cell_type": "code",
   "execution_count": 18,
   "metadata": {},
   "outputs": [],
   "source": [
    "min_count = df.vote_count >= 10"
   ]
  },
  {
   "cell_type": "code",
   "execution_count": 19,
   "metadata": {},
   "outputs": [],
   "source": [
    "action_thril = df.query(\"vote_average>=7.5\").loc[gen&ori_lang_eng&min_count,['title', 'poster_path','genres','vote_average','vote_count','release_date']].sort_values(by='vote_average',ascending=False).set_index('title')"
   ]
  },
  {
   "cell_type": "code",
   "execution_count": 20,
   "metadata": {},
   "outputs": [
    {
     "data": {
      "text/html": [
       "<table border=\"1\" class=\"dataframe\">\n",
       "  <thead>\n",
       "    <tr style=\"text-align: right;\">\n",
       "      <th></th>\n",
       "      <th>poster_path</th>\n",
       "      <th>genres</th>\n",
       "      <th>vote_average</th>\n",
       "      <th>vote_count</th>\n",
       "      <th>release_date</th>\n",
       "    </tr>\n",
       "    <tr>\n",
       "      <th>title</th>\n",
       "      <th></th>\n",
       "      <th></th>\n",
       "      <th></th>\n",
       "      <th></th>\n",
       "      <th></th>\n",
       "    </tr>\n",
       "  </thead>\n",
       "  <tbody>\n",
       "    <tr>\n",
       "      <th>I Am So Proud of You</th>\n",
       "      <td><img src='http://image.tmdb.org/t/p/w185//rLOR7LHwXrbD65PeXUHhT42Vf3.jpg' style='height:100px;'></td>\n",
       "      <td>Animation|Action|Thriller|Science Fiction</td>\n",
       "      <td>8.30</td>\n",
       "      <td>12.00</td>\n",
       "      <td>2008-01-01</td>\n",
       "    </tr>\n",
       "    <tr>\n",
       "      <th>The Dark Knight</th>\n",
       "      <td><img src='http://image.tmdb.org/t/p/w185//qJ2tW6WMUDux911r6m7haRef0WH.jpg' style='height:100px;'></td>\n",
       "      <td>Drama|Action|Crime|Thriller</td>\n",
       "      <td>8.30</td>\n",
       "      <td>12269.00</td>\n",
       "      <td>2008-07-16</td>\n",
       "    </tr>\n",
       "    <tr>\n",
       "      <th>Inception</th>\n",
       "      <td><img src='http://image.tmdb.org/t/p/w185//9gk7adHYeDvHkCSEqAvQNLV5Uge.jpg' style='height:100px;'></td>\n",
       "      <td>Action|Thriller|Science Fiction|Mystery|Adventure</td>\n",
       "      <td>8.10</td>\n",
       "      <td>14075.00</td>\n",
       "      <td>2010-07-14</td>\n",
       "    </tr>\n",
       "    <tr>\n",
       "      <th>Scarface</th>\n",
       "      <td><img src='http://image.tmdb.org/t/p/w185//j5hIPcdVIQg8cRCbnAtYvBh6aOa.jpg' style='height:100px;'></td>\n",
       "      <td>Action|Crime|Drama|Thriller</td>\n",
       "      <td>8.00</td>\n",
       "      <td>3017.00</td>\n",
       "      <td>1983-12-08</td>\n",
       "    </tr>\n",
       "    <tr>\n",
       "      <th>Inglourious Basterds</th>\n",
       "      <td><img src='http://image.tmdb.org/t/p/w185//7sfbEnaARXDDhKm0CZ7D7uc2sbo.jpg' style='height:100px;'></td>\n",
       "      <td>Drama|Action|Thriller|War</td>\n",
       "      <td>7.90</td>\n",
       "      <td>6598.00</td>\n",
       "      <td>2009-08-18</td>\n",
       "    </tr>\n",
       "    <tr>\n",
       "      <th>Alien</th>\n",
       "      <td><img src='http://image.tmdb.org/t/p/w185//vfrQk5IPloGg1v9Rzbh2Eg3VGyM.jpg' style='height:100px;'></td>\n",
       "      <td>Horror|Action|Thriller|Science Fiction</td>\n",
       "      <td>7.90</td>\n",
       "      <td>4564.00</td>\n",
       "      <td>1979-05-25</td>\n",
       "    </tr>\n",
       "    <tr>\n",
       "      <th>Bound by Honor</th>\n",
       "      <td><img src='http://image.tmdb.org/t/p/w185//ykkGS21fSaN7jnErKDQr7uXS6jw.jpg' style='height:100px;'></td>\n",
       "      <td>Action|Crime|Drama|Thriller</td>\n",
       "      <td>7.70</td>\n",
       "      <td>116.00</td>\n",
       "      <td>1993-02-05</td>\n",
       "    </tr>\n",
       "    <tr>\n",
       "      <th>V for Vendetta</th>\n",
       "      <td><img src='http://image.tmdb.org/t/p/w185//2ySXWBckQboalTZjhaLWRqc3gCN.jpg' style='height:100px;'></td>\n",
       "      <td>Action|Thriller|Fantasy</td>\n",
       "      <td>7.70</td>\n",
       "      <td>4562.00</td>\n",
       "      <td>2006-03-15</td>\n",
       "    </tr>\n",
       "    <tr>\n",
       "      <th>Carlito's Way</th>\n",
       "      <td><img src='http://image.tmdb.org/t/p/w185//hkQajMiBArTH6JwEgjfsrl746qn.jpg' style='height:100px;'></td>\n",
       "      <td>Action|Crime|Drama|Thriller</td>\n",
       "      <td>7.70</td>\n",
       "      <td>805.00</td>\n",
       "      <td>1993-11-10</td>\n",
       "    </tr>\n",
       "    <tr>\n",
       "      <th>Kill Bill: Vol. 2</th>\n",
       "      <td><img src='http://image.tmdb.org/t/p/w185//2yhg0mZQMhDyvUQ4rG1IZ4oIA8L.jpg' style='height:100px;'></td>\n",
       "      <td>Action|Crime|Thriller</td>\n",
       "      <td>7.70</td>\n",
       "      <td>4061.00</td>\n",
       "      <td>2004-04-16</td>\n",
       "    </tr>\n",
       "    <tr>\n",
       "      <th>Heat</th>\n",
       "      <td><img src='http://image.tmdb.org/t/p/w185//lbf2ueoiEfKIJr2qlT01zIEckbC.jpg' style='height:100px;'></td>\n",
       "      <td>Action|Crime|Drama|Thriller</td>\n",
       "      <td>7.70</td>\n",
       "      <td>1886.00</td>\n",
       "      <td>1995-12-15</td>\n",
       "    </tr>\n",
       "    <tr>\n",
       "      <th>Terminator 2: Judgment Day</th>\n",
       "      <td><img src='http://image.tmdb.org/t/p/w185//5M0j0B18abtBI5gi2RhfjjurTqb.jpg' style='height:100px;'></td>\n",
       "      <td>Action|Thriller|Science Fiction</td>\n",
       "      <td>7.70</td>\n",
       "      <td>4274.00</td>\n",
       "      <td>1991-07-01</td>\n",
       "    </tr>\n",
       "    <tr>\n",
       "      <th>The Killing</th>\n",
       "      <td><img src='http://image.tmdb.org/t/p/w185//8fT4u4LOVdNABCjyFjCj9Gc1u9W.jpg' style='height:100px;'></td>\n",
       "      <td>Drama|Action|Thriller|Crime</td>\n",
       "      <td>7.70</td>\n",
       "      <td>290.00</td>\n",
       "      <td>1956-05-08</td>\n",
       "    </tr>\n",
       "    <tr>\n",
       "      <th>Aliens</th>\n",
       "      <td><img src='http://image.tmdb.org/t/p/w185//xwdPTZyyBa4U3V2N0EmozTCeEAY.jpg' style='height:100px;'></td>\n",
       "      <td>Horror|Action|Thriller|Science Fiction</td>\n",
       "      <td>7.70</td>\n",
       "      <td>3282.00</td>\n",
       "      <td>1986-07-18</td>\n",
       "    </tr>\n",
       "    <tr>\n",
       "      <th>To Have and Have Not</th>\n",
       "      <td><img src='http://image.tmdb.org/t/p/w185//5MLI6ddMpDU5xe8PxEr6TQzTf6W.jpg' style='height:100px;'></td>\n",
       "      <td>War|Action|Adventure|Drama|Romance|Thriller</td>\n",
       "      <td>7.60</td>\n",
       "      <td>112.00</td>\n",
       "      <td>1944-10-11</td>\n",
       "    </tr>\n",
       "    <tr>\n",
       "      <th>Captain Phillips</th>\n",
       "      <td><img src='http://image.tmdb.org/t/p/w185//gffnIOAzQONQklgv2vJr7ZTKCRG.jpg' style='height:100px;'></td>\n",
       "      <td>Action|Drama|Thriller</td>\n",
       "      <td>7.60</td>\n",
       "      <td>2495.00</td>\n",
       "      <td>2013-10-10</td>\n",
       "    </tr>\n",
       "    <tr>\n",
       "      <th>The Dark Knight Rises</th>\n",
       "      <td><img src='http://image.tmdb.org/t/p/w185//vzvKcPQ4o7TjWeGIn0aGC9FeVNu.jpg' style='height:100px;'></td>\n",
       "      <td>Action|Crime|Drama|Thriller</td>\n",
       "      <td>7.60</td>\n",
       "      <td>9263.00</td>\n",
       "      <td>2012-07-16</td>\n",
       "    </tr>\n",
       "    <tr>\n",
       "      <th>The Taking of Pelham One Two Three</th>\n",
       "      <td><img src='http://image.tmdb.org/t/p/w185//vNhywp9w1DVG6BytxKp4kjtaaGC.jpg' style='height:100px;'></td>\n",
       "      <td>Action|Adventure|Crime|Thriller</td>\n",
       "      <td>7.60</td>\n",
       "      <td>109.00</td>\n",
       "      <td>1974-10-02</td>\n",
       "    </tr>\n",
       "    <tr>\n",
       "      <th>Illegal Tender</th>\n",
       "      <td><img src='http://image.tmdb.org/t/p/w185//5mbWro99ERbipdBQKkYxD3FkSoo.jpg' style='height:100px;'></td>\n",
       "      <td>Drama|Action|Thriller|Crime</td>\n",
       "      <td>7.60</td>\n",
       "      <td>15.00</td>\n",
       "      <td>2007-08-24</td>\n",
       "    </tr>\n",
       "    <tr>\n",
       "      <th>Die Hard</th>\n",
       "      <td><img src='http://image.tmdb.org/t/p/w185//aJCpHDC6RoGz7d1Fzayl019xnxX.jpg' style='height:100px;'></td>\n",
       "      <td>Action|Thriller</td>\n",
       "      <td>7.50</td>\n",
       "      <td>4005.00</td>\n",
       "      <td>1988-07-15</td>\n",
       "    </tr>\n",
       "    <tr>\n",
       "      <th>Farscape: The Peacekeeper Wars</th>\n",
       "      <td><img src='http://image.tmdb.org/t/p/w185//wg2iZ4CzP784DjlQDKRbHdrGNDy.jpg' style='height:100px;'></td>\n",
       "      <td>Action|Comedy|Romance|Science Fiction|Thriller</td>\n",
       "      <td>7.50</td>\n",
       "      <td>74.00</td>\n",
       "      <td>2004-01-01</td>\n",
       "    </tr>\n",
       "    <tr>\n",
       "      <th>Prison Break: The Final Break</th>\n",
       "      <td><img src='http://image.tmdb.org/t/p/w185//h1QRyGuWVXM4Cr3FyPISSjMCBkA.jpg' style='height:100px;'></td>\n",
       "      <td>Action|Drama|Thriller</td>\n",
       "      <td>7.50</td>\n",
       "      <td>174.00</td>\n",
       "      <td>2009-05-26</td>\n",
       "    </tr>\n",
       "    <tr>\n",
       "      <th>True Romance</th>\n",
       "      <td><img src='http://image.tmdb.org/t/p/w185//AqlPzcILRi0IW0JodKp7pMMNEFt.jpg' style='height:100px;'></td>\n",
       "      <td>Action|Thriller|Crime|Romance</td>\n",
       "      <td>7.50</td>\n",
       "      <td>762.00</td>\n",
       "      <td>1993-09-09</td>\n",
       "    </tr>\n",
       "    <tr>\n",
       "      <th>Sorcerer</th>\n",
       "      <td><img src='http://image.tmdb.org/t/p/w185//xDQWVAxQPflZPrnXznfJZ2cyYxp.jpg' style='height:100px;'></td>\n",
       "      <td>Action|Thriller|Adventure</td>\n",
       "      <td>7.50</td>\n",
       "      <td>104.00</td>\n",
       "      <td>1977-06-24</td>\n",
       "    </tr>\n",
       "    <tr>\n",
       "      <th>The Asphalt Jungle</th>\n",
       "      <td><img src='http://image.tmdb.org/t/p/w185//kIkPJnMVvFPt08siIJB5G8h8WDO.jpg' style='height:100px;'></td>\n",
       "      <td>Action|Crime|Drama|Thriller</td>\n",
       "      <td>7.50</td>\n",
       "      <td>102.00</td>\n",
       "      <td>1950-05-22</td>\n",
       "    </tr>\n",
       "    <tr>\n",
       "      <th>The Valley of Gwangi</th>\n",
       "      <td><img src='http://image.tmdb.org/t/p/w185//5RP7yHpTHsLlQEP8V3gji743Sbh.jpg' style='height:100px;'></td>\n",
       "      <td>Action|Fantasy|Science Fiction|Thriller|Western</td>\n",
       "      <td>7.50</td>\n",
       "      <td>52.00</td>\n",
       "      <td>1969-07-24</td>\n",
       "    </tr>\n",
       "    <tr>\n",
       "      <th>Ghost Recon: Alpha</th>\n",
       "      <td><img src='http://image.tmdb.org/t/p/w185//iCEFcdAYHJFZLJolJcuWbH5xGhn.jpg' style='height:100px;'></td>\n",
       "      <td>Action|Science Fiction|Thriller|War</td>\n",
       "      <td>7.50</td>\n",
       "      <td>43.00</td>\n",
       "      <td>2012-05-03</td>\n",
       "    </tr>\n",
       "    <tr>\n",
       "      <th>Dunkirk</th>\n",
       "      <td><img src='http://image.tmdb.org/t/p/w185//ebSnODDg9lbsMIaWg2uAbjn7TO5.jpg' style='height:100px;'></td>\n",
       "      <td>Action|Drama|History|Thriller|War</td>\n",
       "      <td>7.50</td>\n",
       "      <td>2712.00</td>\n",
       "      <td>2017-07-19</td>\n",
       "    </tr>\n",
       "    <tr>\n",
       "      <th>Scarface</th>\n",
       "      <td><img src='http://image.tmdb.org/t/p/w185//bnFjMTOQlS6l3hV3QzfBkefiMNJ.jpg' style='height:100px;'></td>\n",
       "      <td>Action|Adventure|Crime|Drama|Thriller</td>\n",
       "      <td>7.50</td>\n",
       "      <td>88.00</td>\n",
       "      <td>1932-04-09</td>\n",
       "    </tr>\n",
       "  </tbody>\n",
       "</table>"
      ],
      "text/plain": [
       "<IPython.core.display.HTML object>"
      ]
     },
     "execution_count": 20,
     "metadata": {},
     "output_type": "execute_result"
    }
   ],
   "source": [
    "HTML(action_thril.to_html(escape=False))"
   ]
  },
  {
   "cell_type": "code",
   "execution_count": null,
   "metadata": {},
   "outputs": [],
   "source": []
  }
 ],
 "metadata": {
  "kernelspec": {
   "display_name": "Python 3.10.4 64-bit",
   "language": "python",
   "name": "python3"
  },
  "language_info": {
   "codemirror_mode": {
    "name": "ipython",
    "version": 3
   },
   "file_extension": ".py",
   "mimetype": "text/x-python",
   "name": "python",
   "nbconvert_exporter": "python",
   "pygments_lexer": "ipython3",
   "version": "3.10.4"
  },
  "orig_nbformat": 4,
  "vscode": {
   "interpreter": {
    "hash": "ede5060663335fa224b5b5884e190395279403262ef320fc0cb5b53e9e50f162"
   }
  }
 },
 "nbformat": 4,
 "nbformat_minor": 2
}
